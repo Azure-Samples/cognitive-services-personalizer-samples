{
 "cells": [
  {
   "cell_type": "markdown",
   "metadata": {},
   "source": [
    "# Cognitive Services Personalizer \n",
    "https://github.com/Azure-Samples/cognitive-services-personalizer-samples"
   ]
  },
  {
   "cell_type": "markdown",
   "metadata": {},
   "source": [
    "In this example, we will use Azure Personalizer Service to predict what Coffee a person (Alice, Bob, Cathy and Dave) prefers given the weather condition and time of day. File \"example.json\" contains their preferred choices of Coffee (set deterministically for the simplicity of this example). We will compare this data with the predictions from the service and generate rewards (0 or 1) based on the match and send it back to the service for training the model.\n",
    "\n",
    "Note that a model is exported every 5 minutes (current default) if you are using the Cognitive Services instance of the Personalizer service, so you need to wait at least until that time has expired then to actually observe some learning in the rewards returned. Exploration is set at 20%.\n",
    "\n",
    "Current implementation calls the Personalizer service through http calls. We will replace this with a python client in the future."
   ]
  },
  {
   "cell_type": "code",
   "execution_count": 431,
   "metadata": {},
   "outputs": [],
   "source": [
    "import json\n",
    "import matplotlib.pyplot as plt\n",
    "import random \n",
    "import requests\n",
    "import time\n",
    "import uuid"
   ]
  },
  {
   "cell_type": "code",
   "execution_count": 432,
   "metadata": {},
   "outputs": [],
   "source": [
    "# Replace 'personalization_base_url' and 'subscription_key' with your valid endpoint values.\n",
    "personalization_base_url = \"https://westus2.api.cognitive.microsoft.com/"\n",
    "subscription_key = \"3b2d1b1dc7ed4e28b98db2334ba4ef53\""
   ]
  },
  {
   "cell_type": "code",
   "execution_count": 433,
   "metadata": {
    "scrolled": true
   },
   "outputs": [],
   "source": [
    "personalization_rank_url = personalization_base_url + \"/personalizer/v1.0/rank\"\n",
    "personalization_reward_url = personalization_base_url + \"/personalizer/v1.0/events/\" #add \"{eventId}/reward\"\n",
    "headers = {'Ocp-Apim-Subscription-Key' : subscription_key, 'Content-Type': 'application/json'}\n",
    "\n",
    "examplepath = \"example.json\"\n",
    "requestpath = \"rankrequest.json\"\n",
    "actionfeaturespath = \"actionfeatures.json\"\n",
    "\n",
    "random.seed(time.time())\n",
    "\n",
    "userpref = None \n",
    "rankactionsjsonobj = None \n",
    "actionfeaturesobj = None\n",
    "\n",
    "with open(examplepath) as handle:\n",
    "    userpref = json.loads(handle.read())\n",
    "\n",
    "with open(requestpath) as handle:\n",
    "    rankactionsjsonobj = json.loads(handle.read())  \n",
    "    \n",
    "with open(actionfeaturespath) as handle:\n",
    "    actionfeaturesobj = json.loads(handle.read())"
   ]
  },
  {
   "cell_type": "code",
   "execution_count": 434,
   "metadata": {},
   "outputs": [],
   "source": [
    "def get_reward_from_simulated_data(name, weather, timeofday, prediction):\n",
    "    if(userpref[name][weather][timeofday] == str(prediction)):\n",
    "        return 1 \n",
    "    return 0"
   ]
  },
  {
   "cell_type": "code",
   "execution_count": 435,
   "metadata": {},
   "outputs": [],
   "source": [
    "def add_event_id(rankjsonobj):\n",
    "    eventid = uuid.uuid4().hex\n",
    "    rankjsonobj[\"eventId\"] = eventid\n",
    "    return eventid"
   ]
  },
  {
   "cell_type": "code",
   "execution_count": 436,
   "metadata": {},
   "outputs": [],
   "source": [
    "def add_random_user_and_contextfeatures(namesoption, weatheropt, timeofdayopt, rankjsonobj):   \n",
    "    name = namesopt[random.randint(0,3)]\n",
    "    weather = weatheropt[random.randint(0,2)]\n",
    "    timeofday = timeofdayopt[random.randint(0,2)]\n",
    "    rankjsonobj['contextFeatures'] = [{'timeofday': timeofday, 'weather': weather, 'name': name}]\n",
    "    return [name, weather, timeofday]"
   ]
  },
  {
   "cell_type": "code",
   "execution_count": 437,
   "metadata": {},
   "outputs": [],
   "source": [
    "def add_action_features(rankjsonobj):\n",
    "    rankjsonobj[\"actions\"] = actionfeaturesobj"
   ]
  },
  {
   "cell_type": "code",
   "execution_count": 439,
   "metadata": {},
   "outputs": [],
   "source": [
    "i = 1\n",
    "num_requests = 10000\n",
    "recommendations = 0\n",
    "reward = 0\n",
    "rewards = []\n",
    "count = []\n",
    "rankjsonobj = rankactionsjsonobj\n",
    "    \n",
    "namesopt = ['Alice', 'Bob', 'Cathy', 'Dave']\n",
    "weatheropt = ['Sunny', 'Rainy', 'Snowy']\n",
    "timeofdayopt = ['Morning', 'Afternoon', 'Evening']\n",
    "\n",
    "while(i <= num_requests):\n",
    "      \n",
    "    #create unique id to associate with an event\n",
    "    eventid = add_event_id(rankjsonobj)\n",
    "    \n",
    "    #generate a random sample\n",
    "    [name, weather, timeofday] = add_random_user_and_contextfeatures(namesopt, weatheropt, timeofdayopt, rankjsonobj)\n",
    "    \n",
    "    #add action features to rank\n",
    "    add_action_features(rankjsonobj) \n",
    "        \n",
    "    #choose an action\n",
    "    response = requests.post(personalization_rank_url, headers = headers, params = None, json = rankjsonobj)\n",
    "                  \n",
    "    #compare personalization service recommendation with the simulated data to generate a reward value\n",
    "    prediction = json.dumps(response.json()[\"rewardActionId\"]).replace('\"','')\n",
    "    reward = get_reward_from_simulated_data(name, weather, timeofday, prediction)\n",
    "    \n",
    "    #send the reward to the service \n",
    "    response = requests.post(personalization_reward_url + eventid + \"/reward\", headers = headers, params= None, json = { \"value\" : reward })\n",
    "    \n",
    "    #for every 10 rank request compute total correct recommendations \n",
    "    recommendations = recommendations + reward\n",
    "    \n",
    "    #wait (>5 mins) between sending more events to observe learning in the next batch\n",
    "    if(i % 500 == 0):\n",
    "        time.sleep(310) \n",
    "               \n",
    "    if(i % 10 == 0):\n",
    "        rewards.append(recommendations)\n",
    "        count.append(i)\n",
    "        recommendations = 0\n",
    "        \n",
    "    i = i + 1"
   ]
  },
  {
   "cell_type": "markdown",
   "metadata": {},
   "source": [
    "Plot total number of correct recommendations for every batch of 10 events."
   ]
  },
  {
   "cell_type": "code",
   "execution_count": 440,
   "metadata": {},
   "outputs": [
    {
     "data": {
      "image/png": "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\n",
      "text/plain": [
       "<Figure size 432x288 with 1 Axes>"
      ]
     },
     "metadata": {
      "needs_background": "light"
     },
     "output_type": "display_data"
    }
   ],
   "source": [
    "plt.plot(count, rewards)\n",
    "plt.xlabel(\"Batch of 10 rank events\")\n",
    "plt.ylabel(\"Correct recommendations per batch\")\n",
    "plt.show()"
   ]
  },
  {
   "cell_type": "markdown",
   "metadata": {},
   "source": [
    "From the above plot, you can observe that the ranking gets better after ~2000 events and performs well over ~80% of the time. Since, the exploration is set to 20%, 20% of the time the system still tries to explore the other options. See https://docs.microsoft.com/en-us/azure/cognitive-services/personalizer/ for more documentation."
   ]
  },
  {
   "cell_type": "code",
   "execution_count": null,
   "metadata": {},
   "outputs": [],
   "source": []
  }
 ],
 "metadata": {
  "kernelspec": {
   "display_name": "Python 3",
   "language": "python",
   "name": "python3"
  },
  "language_info": {
   "codemirror_mode": {
    "name": "ipython",
    "version": 3
   },
   "file_extension": ".py",
   "mimetype": "text/x-python",
   "name": "python",
   "nbconvert_exporter": "python",
   "pygments_lexer": "ipython3",
   "version": "3.7.1"
  }
 },
 "nbformat": 4,
 "nbformat_minor": 2
}
